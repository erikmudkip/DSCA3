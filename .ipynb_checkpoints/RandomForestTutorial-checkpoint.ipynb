{
 "cells": [
  {
   "cell_type": "markdown",
   "metadata": {},
   "source": [
    "# Data Pre-Processing and Random Forest Tutorial"
   ]
  },
  {
   "cell_type": "markdown",
   "metadata": {},
   "source": [
    "## Introduction"
   ]
  },
  {
   "cell_type": "markdown",
   "metadata": {},
   "source": [
    "Machine learning is a branch of artificial intellegence (AI). MAchine learning itself is a scientific study of algorithms and statistical models in computer system that i used to perform a specific rask without using any explicit instructions. This is done by using patters and inference from the datas that are provided as the test suite.\n",
    "\n",
    "There are diffrent type of machine learning methods, in which supervised learning and unsupervised learning are the most widely adopted machine learning methods. other most popular machine learning method are semisupervised learning and reinforced learning. In this tutorial we will be focusing on supervised learning method. Supervised learning method is where the model is given a set of training datas where the data have a set of inputs and output such as True or False. Supervised learning can furthermore be grouped into classification and regression. Each of them have different use, for exaple classification is used to classifisy values while regression in used to forecast values.\n",
    "\n",
    "Another important aspect of machine learning is the algorithms used. some of the most popular machine learning algorithms currently are K-nearest neighbours, Random Forest, Neural Network, Decision Tree and Linear Regression. In this tutorial we will dive into Random forest. Random forest itself is an ensemble learning that create multiple unique decision trees with different variables. All of this decision tree then will create a result and the average of those comulative results will be used as the output of random forest algorithm.\n",
    "\n",
    "After this tutorial you will be able to:\n",
    "\n",
    "- Pre-process data\n",
    "- Understand how random forest work\n",
    "- Understand what each attributes do in random forest parameter\n",
    "- Improving the accuracy of random forest output\n",
    "- Solving underfitting and overfitting problem in random forest\n",
    "\n"
   ]
  },
  {
   "cell_type": "markdown",
   "metadata": {},
   "source": [
    "## Dataset"
   ]
  },
  {
   "cell_type": "markdown",
   "metadata": {},
   "source": [
    "Dota is a popular online multiplayer online battle arena(MOBA) game developed by Valve. its is a game where 2 teams whcih consist of 5 players each pick a character from a pool of 113 playable heroes and race to destroy the enemy ancient. Each of the hero is diffrent and provide diffrent advantage to the team. The tutorial will show how to make a machine learning model that can predict the outcome of the match based on the heroes pick.\n",
    "\n",
    "The dataset that we will be using was taken from UCI (https://archive.ics.uci.edu/ml/datasets/Dota2+Games+Results). The datasets consist of training dataset and test dataset. The training dataset consist of 92650 rows of data while the test dataset consist of 10294 rows of data. \n",
    "\n",
    "The dataset rows represent diffrent aspect of the game:\n",
    "- The first collumn represent the output of the match. the value could be 1 which represent the first team is the winner or -1 that represent the second team is the winner of the game\n",
    "- The second collumn represent the cluster id of where the game is played. the values range from 111 to 261.\n",
    "- The third collumn represent the game mode on how the heroes is picked and how big is the hero pool. the values range from -1 to 8\n",
    "- The fourth collumn represent the game type such as ranked or unranked game. the values range from 1 to 3.\n",
    "- the rest of the 113 collum represent each playable characters in the game where value 1 is for the characters picked by team 1, -1 for characters picked by team 2 while 0 for characters that are not picked in that game.\n"
   ]
  },
  {
   "cell_type": "markdown",
   "metadata": {
    "collapsed": true
   },
   "source": [
    "## Data Pre-Processing"
   ]
  },
  {
   "cell_type": "markdown",
   "metadata": {
    "collapsed": true
   },
   "source": [
    "Data preprocessing is a data mining technique that involves transforming raw data into an understandable format. Real-world data is often incomplete, inconsistent, and/or lacking in certain behaviors or trends, and is likely to contain many errors. Data preprocessing is a proven method of resolving such issues. Data preprocessing prepares raw data for further processing.\n",
    "\n",
    "Data preprocessing have to go trough series of step during pre-processing step:\n",
    "- Data cleaning, this process cleansed the data by filling in missing values, smoothing noisy data and resolving the inconsistency of the data. the most common method to clean data with missing value is by removing the entire row of data\n",
    "- Data integration, this process is done when you have 2 or more different datasets. this process combine both datasets and resol ve the conflict within the data\n",
    "- Data transformation, in this process datas are normalized, aggregated and generalized.\n",
    "- Data reduction, in this process the data size is reduced to fit the requirment and prevent overfitting in the model.\n",
    "- Data discretization, in this process data values are limited to certain range. this is done to minimalize the loss of datas\n",
    "\n",
    "we will beusing the step based on our needs, therefore its not often that only 1 or 2 step used.\n"
   ]
  },
  {
   "cell_type": "markdown",
   "metadata": {},
   "source": [
    "## Step 1: Import the libraries"
   ]
  },
  {
   "cell_type": "code",
   "execution_count": 2,
   "metadata": {
    "collapsed": true
   },
   "outputs": [],
   "source": [
    "import numpy as np\n",
    "import pandas as pd"
   ]
  },
  {
   "cell_type": "markdown",
   "metadata": {},
   "source": [
    "In this step we are importing the important libraries that we will be using for this tutorial\n",
    "\n",
    "- pandas is a software library written for the Python programming language for data manipulation and analysis. In particular, it offers data structures and operations for manipulating numerical tables and time series\n",
    "- NumPy is the fundamental package for scientific computing with Python"
   ]
  },
  {
   "cell_type": "markdown",
   "metadata": {},
   "source": [
    "## Step 2: Import datasets"
   ]
  },
  {
   "cell_type": "code",
   "execution_count": 3,
   "metadata": {
    "collapsed": true
   },
   "outputs": [],
   "source": [
    "train_data = pd.read_csv(\"dota2train.csv\", header=None)"
   ]
  },
  {
   "cell_type": "code",
   "execution_count": 4,
   "metadata": {},
   "outputs": [
    {
     "data": {
      "text/html": [
       "<div>\n",
       "<style scoped>\n",
       "    .dataframe tbody tr th:only-of-type {\n",
       "        vertical-align: middle;\n",
       "    }\n",
       "\n",
       "    .dataframe tbody tr th {\n",
       "        vertical-align: top;\n",
       "    }\n",
       "\n",
       "    .dataframe thead th {\n",
       "        text-align: right;\n",
       "    }\n",
       "</style>\n",
       "<table border=\"1\" class=\"dataframe\">\n",
       "  <thead>\n",
       "    <tr style=\"text-align: right;\">\n",
       "      <th></th>\n",
       "      <th>0</th>\n",
       "      <th>1</th>\n",
       "      <th>2</th>\n",
       "      <th>3</th>\n",
       "      <th>4</th>\n",
       "      <th>5</th>\n",
       "      <th>6</th>\n",
       "      <th>7</th>\n",
       "      <th>8</th>\n",
       "      <th>9</th>\n",
       "      <th>...</th>\n",
       "      <th>107</th>\n",
       "      <th>108</th>\n",
       "      <th>109</th>\n",
       "      <th>110</th>\n",
       "      <th>111</th>\n",
       "      <th>112</th>\n",
       "      <th>113</th>\n",
       "      <th>114</th>\n",
       "      <th>115</th>\n",
       "      <th>116</th>\n",
       "    </tr>\n",
       "  </thead>\n",
       "  <tbody>\n",
       "    <tr>\n",
       "      <th>0</th>\n",
       "      <td>-1</td>\n",
       "      <td>223</td>\n",
       "      <td>2</td>\n",
       "      <td>2</td>\n",
       "      <td>0</td>\n",
       "      <td>0</td>\n",
       "      <td>0</td>\n",
       "      <td>0</td>\n",
       "      <td>0</td>\n",
       "      <td>0</td>\n",
       "      <td>...</td>\n",
       "      <td>0</td>\n",
       "      <td>0</td>\n",
       "      <td>0</td>\n",
       "      <td>0</td>\n",
       "      <td>0</td>\n",
       "      <td>0</td>\n",
       "      <td>0</td>\n",
       "      <td>0</td>\n",
       "      <td>0</td>\n",
       "      <td>0</td>\n",
       "    </tr>\n",
       "    <tr>\n",
       "      <th>1</th>\n",
       "      <td>1</td>\n",
       "      <td>152</td>\n",
       "      <td>2</td>\n",
       "      <td>2</td>\n",
       "      <td>0</td>\n",
       "      <td>0</td>\n",
       "      <td>0</td>\n",
       "      <td>1</td>\n",
       "      <td>0</td>\n",
       "      <td>-1</td>\n",
       "      <td>...</td>\n",
       "      <td>0</td>\n",
       "      <td>0</td>\n",
       "      <td>0</td>\n",
       "      <td>0</td>\n",
       "      <td>0</td>\n",
       "      <td>0</td>\n",
       "      <td>0</td>\n",
       "      <td>0</td>\n",
       "      <td>0</td>\n",
       "      <td>0</td>\n",
       "    </tr>\n",
       "    <tr>\n",
       "      <th>2</th>\n",
       "      <td>1</td>\n",
       "      <td>131</td>\n",
       "      <td>2</td>\n",
       "      <td>2</td>\n",
       "      <td>0</td>\n",
       "      <td>0</td>\n",
       "      <td>0</td>\n",
       "      <td>1</td>\n",
       "      <td>0</td>\n",
       "      <td>-1</td>\n",
       "      <td>...</td>\n",
       "      <td>0</td>\n",
       "      <td>0</td>\n",
       "      <td>0</td>\n",
       "      <td>0</td>\n",
       "      <td>0</td>\n",
       "      <td>0</td>\n",
       "      <td>0</td>\n",
       "      <td>0</td>\n",
       "      <td>0</td>\n",
       "      <td>0</td>\n",
       "    </tr>\n",
       "  </tbody>\n",
       "</table>\n",
       "<p>3 rows × 117 columns</p>\n",
       "</div>"
      ],
      "text/plain": [
       "   0    1    2    3    4    5    6    7    8    9   ...   107  108  109  110  \\\n",
       "0   -1  223    2    2    0    0    0    0    0    0 ...     0    0    0    0   \n",
       "1    1  152    2    2    0    0    0    1    0   -1 ...     0    0    0    0   \n",
       "2    1  131    2    2    0    0    0    1    0   -1 ...     0    0    0    0   \n",
       "\n",
       "   111  112  113  114  115  116  \n",
       "0    0    0    0    0    0    0  \n",
       "1    0    0    0    0    0    0  \n",
       "2    0    0    0    0    0    0  \n",
       "\n",
       "[3 rows x 117 columns]"
      ]
     },
     "execution_count": 4,
     "metadata": {},
     "output_type": "execute_result"
    }
   ],
   "source": [
    "train_data.head(3)"
   ]
  },
  {
   "cell_type": "code",
   "execution_count": 5,
   "metadata": {
    "collapsed": true
   },
   "outputs": [],
   "source": [
    "y = train_data[train_data.columns[0]]\n",
    "X = train_data.drop(train_data.columns[0], axis=1)"
   ]
  },
  {
   "cell_type": "code",
   "execution_count": 6,
   "metadata": {},
   "outputs": [
    {
     "data": {
      "text/plain": [
       "0   -1\n",
       "1    1\n",
       "2    1\n",
       "Name: 0, dtype: int64"
      ]
     },
     "execution_count": 6,
     "metadata": {},
     "output_type": "execute_result"
    }
   ],
   "source": [
    "y.head(3)"
   ]
  },
  {
   "cell_type": "code",
   "execution_count": 7,
   "metadata": {},
   "outputs": [
    {
     "data": {
      "text/html": [
       "<div>\n",
       "<style scoped>\n",
       "    .dataframe tbody tr th:only-of-type {\n",
       "        vertical-align: middle;\n",
       "    }\n",
       "\n",
       "    .dataframe tbody tr th {\n",
       "        vertical-align: top;\n",
       "    }\n",
       "\n",
       "    .dataframe thead th {\n",
       "        text-align: right;\n",
       "    }\n",
       "</style>\n",
       "<table border=\"1\" class=\"dataframe\">\n",
       "  <thead>\n",
       "    <tr style=\"text-align: right;\">\n",
       "      <th></th>\n",
       "      <th>1</th>\n",
       "      <th>2</th>\n",
       "      <th>3</th>\n",
       "      <th>4</th>\n",
       "      <th>5</th>\n",
       "      <th>6</th>\n",
       "      <th>7</th>\n",
       "      <th>8</th>\n",
       "      <th>9</th>\n",
       "      <th>10</th>\n",
       "      <th>...</th>\n",
       "      <th>107</th>\n",
       "      <th>108</th>\n",
       "      <th>109</th>\n",
       "      <th>110</th>\n",
       "      <th>111</th>\n",
       "      <th>112</th>\n",
       "      <th>113</th>\n",
       "      <th>114</th>\n",
       "      <th>115</th>\n",
       "      <th>116</th>\n",
       "    </tr>\n",
       "  </thead>\n",
       "  <tbody>\n",
       "    <tr>\n",
       "      <th>0</th>\n",
       "      <td>223</td>\n",
       "      <td>2</td>\n",
       "      <td>2</td>\n",
       "      <td>0</td>\n",
       "      <td>0</td>\n",
       "      <td>0</td>\n",
       "      <td>0</td>\n",
       "      <td>0</td>\n",
       "      <td>0</td>\n",
       "      <td>0</td>\n",
       "      <td>...</td>\n",
       "      <td>0</td>\n",
       "      <td>0</td>\n",
       "      <td>0</td>\n",
       "      <td>0</td>\n",
       "      <td>0</td>\n",
       "      <td>0</td>\n",
       "      <td>0</td>\n",
       "      <td>0</td>\n",
       "      <td>0</td>\n",
       "      <td>0</td>\n",
       "    </tr>\n",
       "    <tr>\n",
       "      <th>1</th>\n",
       "      <td>152</td>\n",
       "      <td>2</td>\n",
       "      <td>2</td>\n",
       "      <td>0</td>\n",
       "      <td>0</td>\n",
       "      <td>0</td>\n",
       "      <td>1</td>\n",
       "      <td>0</td>\n",
       "      <td>-1</td>\n",
       "      <td>0</td>\n",
       "      <td>...</td>\n",
       "      <td>0</td>\n",
       "      <td>0</td>\n",
       "      <td>0</td>\n",
       "      <td>0</td>\n",
       "      <td>0</td>\n",
       "      <td>0</td>\n",
       "      <td>0</td>\n",
       "      <td>0</td>\n",
       "      <td>0</td>\n",
       "      <td>0</td>\n",
       "    </tr>\n",
       "    <tr>\n",
       "      <th>2</th>\n",
       "      <td>131</td>\n",
       "      <td>2</td>\n",
       "      <td>2</td>\n",
       "      <td>0</td>\n",
       "      <td>0</td>\n",
       "      <td>0</td>\n",
       "      <td>1</td>\n",
       "      <td>0</td>\n",
       "      <td>-1</td>\n",
       "      <td>0</td>\n",
       "      <td>...</td>\n",
       "      <td>0</td>\n",
       "      <td>0</td>\n",
       "      <td>0</td>\n",
       "      <td>0</td>\n",
       "      <td>0</td>\n",
       "      <td>0</td>\n",
       "      <td>0</td>\n",
       "      <td>0</td>\n",
       "      <td>0</td>\n",
       "      <td>0</td>\n",
       "    </tr>\n",
       "  </tbody>\n",
       "</table>\n",
       "<p>3 rows × 116 columns</p>\n",
       "</div>"
      ],
      "text/plain": [
       "   1    2    3    4    5    6    7    8    9    10  ...   107  108  109  110  \\\n",
       "0  223    2    2    0    0    0    0    0    0    0 ...     0    0    0    0   \n",
       "1  152    2    2    0    0    0    1    0   -1    0 ...     0    0    0    0   \n",
       "2  131    2    2    0    0    0    1    0   -1    0 ...     0    0    0    0   \n",
       "\n",
       "   111  112  113  114  115  116  \n",
       "0    0    0    0    0    0    0  \n",
       "1    0    0    0    0    0    0  \n",
       "2    0    0    0    0    0    0  \n",
       "\n",
       "[3 rows x 116 columns]"
      ]
     },
     "execution_count": 7,
     "metadata": {},
     "output_type": "execute_result"
    }
   ],
   "source": [
    "X.head(3)"
   ]
  },
  {
   "cell_type": "markdown",
   "metadata": {},
   "source": [
    "In this step we are importing the training dataset and testing dataset that we will be using which is \"dota2train.csv\"."
   ]
  },
  {
   "cell_type": "markdown",
   "metadata": {},
   "source": [
    "## Step 3: Check for missing values "
   ]
  },
  {
   "cell_type": "code",
   "execution_count": 8,
   "metadata": {},
   "outputs": [
    {
     "data": {
      "text/plain": [
       "0      0\n",
       "1      0\n",
       "2      0\n",
       "3      0\n",
       "4      0\n",
       "5      0\n",
       "6      0\n",
       "7      0\n",
       "8      0\n",
       "9      0\n",
       "10     0\n",
       "11     0\n",
       "12     0\n",
       "13     0\n",
       "14     0\n",
       "15     0\n",
       "16     0\n",
       "17     0\n",
       "18     0\n",
       "19     0\n",
       "20     0\n",
       "21     0\n",
       "22     0\n",
       "23     0\n",
       "24     0\n",
       "25     0\n",
       "26     0\n",
       "27     0\n",
       "28     0\n",
       "29     0\n",
       "      ..\n",
       "87     0\n",
       "88     0\n",
       "89     0\n",
       "90     0\n",
       "91     0\n",
       "92     0\n",
       "93     0\n",
       "94     0\n",
       "95     0\n",
       "96     0\n",
       "97     0\n",
       "98     0\n",
       "99     0\n",
       "100    0\n",
       "101    0\n",
       "102    0\n",
       "103    0\n",
       "104    0\n",
       "105    0\n",
       "106    0\n",
       "107    0\n",
       "108    0\n",
       "109    0\n",
       "110    0\n",
       "111    0\n",
       "112    0\n",
       "113    0\n",
       "114    0\n",
       "115    0\n",
       "116    0\n",
       "Length: 117, dtype: int64"
      ]
     },
     "execution_count": 8,
     "metadata": {},
     "output_type": "execute_result"
    }
   ],
   "source": [
    "train_data.isnull().sum()"
   ]
  },
  {
   "cell_type": "markdown",
   "metadata": {},
   "source": [
    "In this step we are checking if out dataset have any missing value, but as you can clearly seen all of our data are complete. there are several way to fix the dataset if we find some missing values such as:\n",
    "- Listwise deletion: remove data that have missing values\n",
    "- Recover the values: you can try to contact the participant of the survey to fill in the missing values\n",
    "- Educated guessing: you can try to make a good guess of what should be in the missing values\n",
    "- Average imputation: we can use the average of the dataset values to fill in the missing values\n",
    "- etc."
   ]
  },
  {
   "cell_type": "markdown",
   "metadata": {},
   "source": [
    "## Step 4: Splitting the dataset into training and test set"
   ]
  },
  {
   "cell_type": "markdown",
   "metadata": {},
   "source": [
    "In this step we will be splitting our procured dataset into training and test set using train_test_split method."
   ]
  },
  {
   "cell_type": "code",
   "execution_count": 9,
   "metadata": {
    "collapsed": true
   },
   "outputs": [],
   "source": [
    "from sklearn.model_selection import train_test_split"
   ]
  },
  {
   "cell_type": "markdown",
   "metadata": {},
   "source": [
    "first we need to import the train_test_split from sklearn to split the dataset."
   ]
  },
  {
   "cell_type": "code",
   "execution_count": 10,
   "metadata": {
    "collapsed": true
   },
   "outputs": [],
   "source": [
    "x_train, x_test, y_train, y_test = train_test_split(X, y, test_size= 0.2)"
   ]
  },
  {
   "cell_type": "markdown",
   "metadata": {},
   "source": [
    "We set the 4 variables name that we will be using to diffrentiate the value. Then we call the train_test_split method. the parameter required to be inputted are (\"input dataset\", \"output datatset\", \"the percentage of the test dataset\"). you dont want to put the test size too big since this can cause an underfitting. I suggest to give the test dataset a split the dataset with the ratio of 70:30 or 80:20. the 0.2 represent the 80:20 ratio while if we change the test_size to 0.3, it will represent 70:30 split ratio."
   ]
  },
  {
   "cell_type": "code",
   "execution_count": 11,
   "metadata": {},
   "outputs": [
    {
     "data": {
      "text/html": [
       "<div>\n",
       "<style scoped>\n",
       "    .dataframe tbody tr th:only-of-type {\n",
       "        vertical-align: middle;\n",
       "    }\n",
       "\n",
       "    .dataframe tbody tr th {\n",
       "        vertical-align: top;\n",
       "    }\n",
       "\n",
       "    .dataframe thead th {\n",
       "        text-align: right;\n",
       "    }\n",
       "</style>\n",
       "<table border=\"1\" class=\"dataframe\">\n",
       "  <thead>\n",
       "    <tr style=\"text-align: right;\">\n",
       "      <th></th>\n",
       "      <th>1</th>\n",
       "      <th>2</th>\n",
       "      <th>3</th>\n",
       "      <th>4</th>\n",
       "      <th>5</th>\n",
       "      <th>6</th>\n",
       "      <th>7</th>\n",
       "      <th>8</th>\n",
       "      <th>9</th>\n",
       "      <th>10</th>\n",
       "      <th>...</th>\n",
       "      <th>107</th>\n",
       "      <th>108</th>\n",
       "      <th>109</th>\n",
       "      <th>110</th>\n",
       "      <th>111</th>\n",
       "      <th>112</th>\n",
       "      <th>113</th>\n",
       "      <th>114</th>\n",
       "      <th>115</th>\n",
       "      <th>116</th>\n",
       "    </tr>\n",
       "  </thead>\n",
       "  <tbody>\n",
       "    <tr>\n",
       "      <th>43356</th>\n",
       "      <td>183</td>\n",
       "      <td>9</td>\n",
       "      <td>2</td>\n",
       "      <td>0</td>\n",
       "      <td>-1</td>\n",
       "      <td>0</td>\n",
       "      <td>1</td>\n",
       "      <td>0</td>\n",
       "      <td>-1</td>\n",
       "      <td>0</td>\n",
       "      <td>...</td>\n",
       "      <td>0</td>\n",
       "      <td>0</td>\n",
       "      <td>0</td>\n",
       "      <td>0</td>\n",
       "      <td>0</td>\n",
       "      <td>0</td>\n",
       "      <td>0</td>\n",
       "      <td>0</td>\n",
       "      <td>-1</td>\n",
       "      <td>0</td>\n",
       "    </tr>\n",
       "    <tr>\n",
       "      <th>89449</th>\n",
       "      <td>144</td>\n",
       "      <td>2</td>\n",
       "      <td>3</td>\n",
       "      <td>1</td>\n",
       "      <td>0</td>\n",
       "      <td>0</td>\n",
       "      <td>0</td>\n",
       "      <td>0</td>\n",
       "      <td>-1</td>\n",
       "      <td>0</td>\n",
       "      <td>...</td>\n",
       "      <td>1</td>\n",
       "      <td>0</td>\n",
       "      <td>0</td>\n",
       "      <td>0</td>\n",
       "      <td>0</td>\n",
       "      <td>0</td>\n",
       "      <td>0</td>\n",
       "      <td>0</td>\n",
       "      <td>0</td>\n",
       "      <td>0</td>\n",
       "    </tr>\n",
       "    <tr>\n",
       "      <th>10726</th>\n",
       "      <td>151</td>\n",
       "      <td>2</td>\n",
       "      <td>2</td>\n",
       "      <td>0</td>\n",
       "      <td>1</td>\n",
       "      <td>0</td>\n",
       "      <td>0</td>\n",
       "      <td>0</td>\n",
       "      <td>0</td>\n",
       "      <td>0</td>\n",
       "      <td>...</td>\n",
       "      <td>0</td>\n",
       "      <td>0</td>\n",
       "      <td>0</td>\n",
       "      <td>0</td>\n",
       "      <td>0</td>\n",
       "      <td>0</td>\n",
       "      <td>0</td>\n",
       "      <td>0</td>\n",
       "      <td>0</td>\n",
       "      <td>0</td>\n",
       "    </tr>\n",
       "  </tbody>\n",
       "</table>\n",
       "<p>3 rows × 116 columns</p>\n",
       "</div>"
      ],
      "text/plain": [
       "       1    2    3    4    5    6    7    8    9    10  ...   107  108  109  \\\n",
       "43356  183    9    2    0   -1    0    1    0   -1    0 ...     0    0    0   \n",
       "89449  144    2    3    1    0    0    0    0   -1    0 ...     1    0    0   \n",
       "10726  151    2    2    0    1    0    0    0    0    0 ...     0    0    0   \n",
       "\n",
       "       110  111  112  113  114  115  116  \n",
       "43356    0    0    0    0    0   -1    0  \n",
       "89449    0    0    0    0    0    0    0  \n",
       "10726    0    0    0    0    0    0    0  \n",
       "\n",
       "[3 rows x 116 columns]"
      ]
     },
     "execution_count": 11,
     "metadata": {},
     "output_type": "execute_result"
    }
   ],
   "source": [
    "x_train.head(3)"
   ]
  },
  {
   "cell_type": "code",
   "execution_count": 12,
   "metadata": {},
   "outputs": [
    {
     "data": {
      "text/html": [
       "<div>\n",
       "<style scoped>\n",
       "    .dataframe tbody tr th:only-of-type {\n",
       "        vertical-align: middle;\n",
       "    }\n",
       "\n",
       "    .dataframe tbody tr th {\n",
       "        vertical-align: top;\n",
       "    }\n",
       "\n",
       "    .dataframe thead th {\n",
       "        text-align: right;\n",
       "    }\n",
       "</style>\n",
       "<table border=\"1\" class=\"dataframe\">\n",
       "  <thead>\n",
       "    <tr style=\"text-align: right;\">\n",
       "      <th></th>\n",
       "      <th>1</th>\n",
       "      <th>2</th>\n",
       "      <th>3</th>\n",
       "      <th>4</th>\n",
       "      <th>5</th>\n",
       "      <th>6</th>\n",
       "      <th>7</th>\n",
       "      <th>8</th>\n",
       "      <th>9</th>\n",
       "      <th>10</th>\n",
       "      <th>...</th>\n",
       "      <th>107</th>\n",
       "      <th>108</th>\n",
       "      <th>109</th>\n",
       "      <th>110</th>\n",
       "      <th>111</th>\n",
       "      <th>112</th>\n",
       "      <th>113</th>\n",
       "      <th>114</th>\n",
       "      <th>115</th>\n",
       "      <th>116</th>\n",
       "    </tr>\n",
       "  </thead>\n",
       "  <tbody>\n",
       "    <tr>\n",
       "      <th>77565</th>\n",
       "      <td>231</td>\n",
       "      <td>1</td>\n",
       "      <td>2</td>\n",
       "      <td>0</td>\n",
       "      <td>0</td>\n",
       "      <td>0</td>\n",
       "      <td>0</td>\n",
       "      <td>0</td>\n",
       "      <td>0</td>\n",
       "      <td>0</td>\n",
       "      <td>...</td>\n",
       "      <td>0</td>\n",
       "      <td>0</td>\n",
       "      <td>0</td>\n",
       "      <td>0</td>\n",
       "      <td>0</td>\n",
       "      <td>0</td>\n",
       "      <td>0</td>\n",
       "      <td>0</td>\n",
       "      <td>0</td>\n",
       "      <td>0</td>\n",
       "    </tr>\n",
       "    <tr>\n",
       "      <th>51525</th>\n",
       "      <td>121</td>\n",
       "      <td>2</td>\n",
       "      <td>2</td>\n",
       "      <td>0</td>\n",
       "      <td>0</td>\n",
       "      <td>-1</td>\n",
       "      <td>0</td>\n",
       "      <td>0</td>\n",
       "      <td>0</td>\n",
       "      <td>0</td>\n",
       "      <td>...</td>\n",
       "      <td>1</td>\n",
       "      <td>0</td>\n",
       "      <td>0</td>\n",
       "      <td>0</td>\n",
       "      <td>0</td>\n",
       "      <td>0</td>\n",
       "      <td>0</td>\n",
       "      <td>0</td>\n",
       "      <td>0</td>\n",
       "      <td>0</td>\n",
       "    </tr>\n",
       "    <tr>\n",
       "      <th>80811</th>\n",
       "      <td>156</td>\n",
       "      <td>2</td>\n",
       "      <td>2</td>\n",
       "      <td>1</td>\n",
       "      <td>0</td>\n",
       "      <td>0</td>\n",
       "      <td>0</td>\n",
       "      <td>0</td>\n",
       "      <td>0</td>\n",
       "      <td>0</td>\n",
       "      <td>...</td>\n",
       "      <td>0</td>\n",
       "      <td>0</td>\n",
       "      <td>0</td>\n",
       "      <td>0</td>\n",
       "      <td>0</td>\n",
       "      <td>0</td>\n",
       "      <td>0</td>\n",
       "      <td>0</td>\n",
       "      <td>0</td>\n",
       "      <td>0</td>\n",
       "    </tr>\n",
       "  </tbody>\n",
       "</table>\n",
       "<p>3 rows × 116 columns</p>\n",
       "</div>"
      ],
      "text/plain": [
       "       1    2    3    4    5    6    7    8    9    10  ...   107  108  109  \\\n",
       "77565  231    1    2    0    0    0    0    0    0    0 ...     0    0    0   \n",
       "51525  121    2    2    0    0   -1    0    0    0    0 ...     1    0    0   \n",
       "80811  156    2    2    1    0    0    0    0    0    0 ...     0    0    0   \n",
       "\n",
       "       110  111  112  113  114  115  116  \n",
       "77565    0    0    0    0    0    0    0  \n",
       "51525    0    0    0    0    0    0    0  \n",
       "80811    0    0    0    0    0    0    0  \n",
       "\n",
       "[3 rows x 116 columns]"
      ]
     },
     "execution_count": 12,
     "metadata": {},
     "output_type": "execute_result"
    }
   ],
   "source": [
    "x_test.head(3)"
   ]
  },
  {
   "cell_type": "code",
   "execution_count": 13,
   "metadata": {},
   "outputs": [
    {
     "data": {
      "text/plain": [
       "43356    1\n",
       "89449   -1\n",
       "10726    1\n",
       "Name: 0, dtype: int64"
      ]
     },
     "execution_count": 13,
     "metadata": {},
     "output_type": "execute_result"
    }
   ],
   "source": [
    "y_train.head(3)"
   ]
  },
  {
   "cell_type": "code",
   "execution_count": 14,
   "metadata": {},
   "outputs": [
    {
     "data": {
      "text/plain": [
       "77565    1\n",
       "51525    1\n",
       "80811    1\n",
       "Name: 0, dtype: int64"
      ]
     },
     "execution_count": 14,
     "metadata": {},
     "output_type": "execute_result"
    }
   ],
   "source": [
    "y_test.head(3)"
   ]
  },
  {
   "cell_type": "markdown",
   "metadata": {},
   "source": [
    "As you can see clearly above are the result of the train_test_split method that we use."
   ]
  },
  {
   "cell_type": "markdown",
   "metadata": {},
   "source": [
    "\n",
    "# Random Forest"
   ]
  },
  {
   "cell_type": "markdown",
   "metadata": {},
   "source": [
    "## How random forest work"
   ]
  },
  {
   "cell_type": "markdown",
   "metadata": {},
   "source": [
    "To explain it simply random forest algorithm create multiple decision tree and merge them togather to increase the accuracy of the prediction. for exaple imagine you have a decision tree that looks like the picture below. then imagine you have 99 more of this decision tree but each with a diffrent question such as \"any alcohol?\" instead of \"any girls?\". then all of those 100 decision tree will produce a result which is \"Go\" or \"Won't go\" and the result you receive is 67 for \"Go\" and 33 for \"Won't go\". Like the majority votes rule, the output will be \"Go\" for the random forest output."
   ]
  },
  {
   "attachments": {
    "image.png": {
     "image/png": "[encoded data removed]"
    }
   },
   "cell_type": "markdown",
   "metadata": {},
   "source": [
    "![image.png](attachment:image.png)"
   ]
  },
  {
   "cell_type": "markdown",
   "metadata": {},
   "source": [
    "Below is a simple implementation of random forest classifier. we will use the classifier to decide if the first team will win or the second team will win based on the characters pick and etc. Keep in mind we don't use the regression because we cant really predict the outcomes of the game. This is caused due:\n",
    "1. Each player have diffrent skill\n",
    "2. Emotion affect the player performance\n",
    "3. etc\n",
    "\n",
    "Therefore we dont enough data to decide who will win overall, but we can classify who's more likely to win based on their characters pick"
   ]
  },
  {
   "cell_type": "code",
   "execution_count": 15,
   "metadata": {
    "collapsed": true
   },
   "outputs": [],
   "source": [
    "from sklearn.ensemble import RandomForestClassifier"
   ]
  },
  {
   "cell_type": "markdown",
   "metadata": {},
   "source": [
    "First we import the random forest classifier from scikit learn library"
   ]
  },
  {
   "cell_type": "code",
   "execution_count": 16,
   "metadata": {
    "collapsed": true
   },
   "outputs": [],
   "source": [
    "rf = RandomForestClassifier(n_estimators=20, random_state=0)  "
   ]
  },
  {
   "cell_type": "markdown",
   "metadata": {},
   "source": [
    "This is a really basic random forest classifier in which we set the numebr of trees to 20 and no random state. There are a lot of parameter that affect random forest classifier. We will talk about what each parameter do in another section below."
   ]
  },
  {
   "cell_type": "code",
   "execution_count": 17,
   "metadata": {},
   "outputs": [
    {
     "data": {
      "text/plain": [
       "RandomForestClassifier(bootstrap=True, class_weight=None, criterion='gini',\n",
       "            max_depth=None, max_features='auto', max_leaf_nodes=None,\n",
       "            min_impurity_decrease=0.0, min_impurity_split=None,\n",
       "            min_samples_leaf=1, min_samples_split=2,\n",
       "            min_weight_fraction_leaf=0.0, n_estimators=20, n_jobs=1,\n",
       "            oob_score=False, random_state=0, verbose=0, warm_start=False)"
      ]
     },
     "execution_count": 17,
     "metadata": {},
     "output_type": "execute_result"
    }
   ],
   "source": [
    "rf.fit(x_train, y_train)"
   ]
  },
  {
   "cell_type": "markdown",
   "metadata": {},
   "source": [
    "In this part we are fitting the training dataset that we split on the pre-processing section."
   ]
  },
  {
   "cell_type": "code",
   "execution_count": 18,
   "metadata": {
    "collapsed": true
   },
   "outputs": [],
   "source": [
    "y_pred = rf.predict(x_test)  "
   ]
  },
  {
   "cell_type": "markdown",
   "metadata": {},
   "source": [
    "This code tell our fitted model to predict the outcome of the test set."
   ]
  },
  {
   "cell_type": "code",
   "execution_count": 19,
   "metadata": {
    "collapsed": true
   },
   "outputs": [],
   "source": [
    "from sklearn import metrics"
   ]
  },
  {
   "cell_type": "code",
   "execution_count": 20,
   "metadata": {},
   "outputs": [
    {
     "name": "stdout",
     "output_type": "stream",
     "text": [
      "Getting Model Accuracy...\n",
      "Training Accuracy =  0.998974635726\n",
      "Test Accuracy =  0.549001618996\n",
      "\n",
      "\n",
      "Printing predicted result...\n",
      "Result_of_Treatment =  [ 1  1 -1 ...,  1 -1  1]\n"
     ]
    }
   ],
   "source": [
    "print(\"Getting Model Accuracy...\")\n",
    "\n",
    "# Get regression details\n",
    "#print(\"Estimated Coefficient = \", regressor.coef_)\n",
    "#print(\"Estimated Intercept = \", regressor.intercept_)\n",
    "print(\"Training Accuracy = \", rf.score(x_train, y_train))\n",
    "print(\"Test Accuracy = \", rf.score(x_test, y_test))\n",
    "\n",
    "print(\"\\n\")\n",
    "print(\"Printing predicted result...\")\n",
    "print(\"Result_of_Treatment = \", y_pred)"
   ]
  },
  {
   "cell_type": "markdown",
   "metadata": {
    "collapsed": true
   },
   "source": [
    "In here we are checking the accuracy of our test set which is 55%. Thats a bit disappointing isn't it? We will fix it in the next section and try to increase the accuracy."
   ]
  },
  {
   "cell_type": "markdown",
   "metadata": {},
   "source": [
    "## Diffrent dataset"
   ]
  },
  {
   "cell_type": "markdown",
   "metadata": {},
   "source": [
    "In this part we will compare the accuracy of our model that's trained using the Dota2 dataset the Iris dataset. The dataset we will be using is taken from \"https://www.kaggle.com/saurabh00007/iriscsv\". we will be using the same treatment and parameter from dota2 dataset and apply them to the iris dataset."
   ]
  },
  {
   "cell_type": "code",
   "execution_count": 21,
   "metadata": {},
   "outputs": [],
   "source": [
    "train_data_iris = pd.read_csv(\"iris.csv\")"
   ]
  },
  {
   "cell_type": "code",
   "execution_count": null,
   "metadata": {
    "collapsed": true
   },
   "outputs": [],
   "source": [
    "train_data_iris.head(3)"
   ]
  },
  {
   "cell_type": "code",
   "execution_count": null,
   "metadata": {
    "collapsed": true
   },
   "outputs": [],
   "source": [
    "y = train_data['species']\n",
    "X = train_data.drop('species', axis=1)"
   ]
  },
  {
   "cell_type": "code",
   "execution_count": null,
   "metadata": {
    "collapsed": true
   },
   "outputs": [],
   "source": []
  },
  {
   "cell_type": "code",
   "execution_count": null,
   "metadata": {
    "collapsed": true
   },
   "outputs": [],
   "source": []
  },
  {
   "cell_type": "code",
   "execution_count": null,
   "metadata": {
    "collapsed": true
   },
   "outputs": [],
   "source": []
  },
  {
   "cell_type": "code",
   "execution_count": null,
   "metadata": {
    "collapsed": true
   },
   "outputs": [],
   "source": []
  },
  {
   "cell_type": "markdown",
   "metadata": {
    "collapsed": true
   },
   "source": [
    "## Parameter in random forest classifier"
   ]
  },
  {
   "cell_type": "markdown",
   "metadata": {
    "collapsed": true
   },
   "source": [
    "Parameters in random forest classifier:\n",
    "- n_estimators\n",
    "- criterion\n",
    "- max_features\n",
    "- max_depth\n",
    "- min_samples_split\n",
    "- min_samples_leaf\n",
    "- min_weight_fraction_leaf\n",
    "- max_leaf_nodes\n",
    "- min_impurity_decrease\n",
    "- bootstrap\n",
    "- oob_score\n",
    "- n_jobs\n",
    "- random_state\n",
    "- verbose\n",
    "- warm_start\n",
    "- class_weight"
   ]
  },
  {
   "cell_type": "markdown",
   "metadata": {
    "collapsed": true
   },
   "source": [
    "### n_estimators"
   ]
  },
  {
   "cell_type": "markdown",
   "metadata": {},
   "source": [
    "n_estimators is the amount of tree that you want to create in the forest. the more trees used, the better is the accuracy of the model. But we need to keep in mind that more tree mean more processing power is required"
   ]
  },
  {
   "cell_type": "markdown",
   "metadata": {
    "collapsed": true
   },
   "source": [
    "### criterion"
   ]
  },
  {
   "cell_type": "markdown",
   "metadata": {},
   "source": [
    "criterion measures the quality of the split. There are 2 value that can be used for the criterion:\n",
    "- gini, which use the gini impurity to make the split(gini is the default criterion)\n",
    "- entropy, which use the information gain to make the split."
   ]
  },
  {
   "cell_type": "markdown",
   "metadata": {
    "collapsed": true
   },
   "source": [
    "### max_features"
   ]
  },
  {
   "cell_type": "markdown",
   "metadata": {},
   "source": [
    "max_features is the maximum number of features looked to find the best split. This parameter increase the result accuracy since each node in the tree looked at a higher range of features. like n_estimators the  processing time will be longer the higher you set the max features"
   ]
  },
  {
   "cell_type": "markdown",
   "metadata": {
    "collapsed": true
   },
   "source": [
    "### max_depth"
   ]
  },
  {
   "cell_type": "markdown",
   "metadata": {},
   "source": [
    "max_depth is used to set how deep you want to create your trees. It is suggested to set the max_depth otherwise your model might run into an overfitting problem."
   ]
  },
  {
   "cell_type": "markdown",
   "metadata": {
    "collapsed": true
   },
   "source": [
    "### min_samples_split"
   ]
  },
  {
   "cell_type": "markdown",
   "metadata": {},
   "source": [
    "min_samples_split set the minimum number of samples that must be available before splitting."
   ]
  },
  {
   "cell_type": "markdown",
   "metadata": {
    "collapsed": true
   },
   "source": [
    "### min_samples_leaf"
   ]
  },
  {
   "cell_type": "markdown",
   "metadata": {},
   "source": [
    "min_samples_leaf decide the minimum number of nodes in each tree."
   ]
  },
  {
   "cell_type": "markdown",
   "metadata": {},
   "source": [
    "### min_weight_fraction_leaf"
   ]
  },
  {
   "cell_type": "markdown",
   "metadata": {},
   "source": [
    "min_weight_fraction_leaf is almost the same as min_sample_leaf. min_weight_leaf use a fraction of the sum total number of observation instead of number of nodes."
   ]
  },
  {
   "cell_type": "markdown",
   "metadata": {},
   "source": [
    "### max_leaf_nodes"
   ]
  },
  {
   "cell_type": "markdown",
   "metadata": {},
   "source": [
    "max_leaf_nodes create the tree in the best-first fashion resulting a relative reduction in the impurity"
   ]
  },
  {
   "cell_type": "markdown",
   "metadata": {},
   "source": [
    "### min_impurity_decrease"
   ]
  },
  {
   "cell_type": "markdown",
   "metadata": {},
   "source": [
    "min_impurity_decrease is used to split a node if this split induces a decrease of the impurity greater than or equal to this value"
   ]
  },
  {
   "cell_type": "markdown",
   "metadata": {},
   "source": [
    "### bootstrap"
   ]
  },
  {
   "cell_type": "markdown",
   "metadata": {},
   "source": [
    "Bootstrap is used to boostrap the samples when building a tree. It is suggested to keep bootstrap as default."
   ]
  },
  {
   "cell_type": "markdown",
   "metadata": {},
   "source": [
    "### oob_score"
   ]
  },
  {
   "cell_type": "markdown",
   "metadata": {},
   "source": [
    "oob_score is used to decide whether to use out-of-bag samples to estimate the generalization accuracy."
   ]
  },
  {
   "cell_type": "markdown",
   "metadata": {},
   "source": [
    "### n_jobs"
   ]
  },
  {
   "cell_type": "markdown",
   "metadata": {},
   "source": [
    "n_jobs is used to decide the amount of processors that are allowed to be used to process the model. the default value is 1 and it is suggested to put more when it is available. "
   ]
  },
  {
   "cell_type": "markdown",
   "metadata": {},
   "source": [
    "### random_state"
   ]
  },
  {
   "cell_type": "markdown",
   "metadata": {},
   "source": [
    "random_state is a seed for the random number generator. this is used to easily replicate the same result given the same training and test set."
   ]
  },
  {
   "cell_type": "markdown",
   "metadata": {},
   "source": [
    "### verbose"
   ]
  },
  {
   "cell_type": "markdown",
   "metadata": {},
   "source": [
    "verbose give you constant update when you are building your mode. this is not really usefull since it just takes up stuff in your notebook. It is suggested to leave it as default value."
   ]
  },
  {
   "cell_type": "markdown",
   "metadata": {},
   "source": [
    "### warm_start"
   ]
  },
  {
   "cell_type": "markdown",
   "metadata": {},
   "source": [
    "At False it fits a new forest each time as opposed to when it is True it adds estimators and reuses the solution of the previous fit"
   ]
  },
  {
   "cell_type": "markdown",
   "metadata": {},
   "source": [
    "### class_weight"
   ]
  },
  {
   "cell_type": "markdown",
   "metadata": {},
   "source": [
    "If you do not put something here it will assume that all classes have a weight of 1, but if you have a multi-output problem a list of dictionaries is used as the columns of y. When the “balanced” mode is used the y values automatically adjust their weights inversely proportional to class frequencies in the data"
   ]
  },
  {
   "cell_type": "markdown",
   "metadata": {},
   "source": [
    "## Increasing random forest accuracy"
   ]
  },
  {
   "cell_type": "markdown",
   "metadata": {},
   "source": [
    "The main way to increase the accuracy of random forest classifier model is by parameter tuning. We can see in the section where we are bulding our random forest classifier we only set the n_estimators and the random state. This cause the model to have a low accuracy since we didnt tune any of the parameters. In this section we will increase the accuracy of our model by using parameter tuning. all the parameter explaination can be seen in the section above or \"https://scikit-learn.org/stable/modules/generated/sklearn.ensemble.RandomForestClassifier.html\"."
   ]
  },
  {
   "cell_type": "code",
   "execution_count": 22,
   "metadata": {
    "collapsed": true
   },
   "outputs": [],
   "source": [
    "rfdeep = RandomForestClassifier(n_estimators = 50, random_state = 10, class_weight='balanced', max_features=10, min_samples_split=5, max_depth=100)"
   ]
  },
  {
   "cell_type": "markdown",
   "metadata": {},
   "source": [
    "Lets try creating a small forest with a really deep tree and see the accuracy result."
   ]
  },
  {
   "cell_type": "code",
   "execution_count": null,
   "metadata": {},
   "outputs": [
    {
     "name": "stdout",
     "output_type": "stream",
     "text": [
      "Getting Model Accuracy...\n",
      "Training Accuracy =  0.999743658931\n",
      "Test Accuracy =  0.561845655693\n",
      "\n",
      "\n",
      "Printing predicted result...\n",
      "Result_of_Treatment =  [ 1  1 -1 ...,  1  1  1]\n"
     ]
    }
   ],
   "source": [
    "rfdeep.fit(x_train, y_train)\n",
    "y_pred = rfdeep.predict(x_test)  \n",
    "\n",
    "print(\"Getting Model Accuracy...\")\n",
    "\n",
    "# Get regression details\n",
    "#print(\"Estimated Coefficient = \", regressor.coef_)\n",
    "#print(\"Estimated Intercept = \", regressor.intercept_)\n",
    "print(\"Training Accuracy = \", rfdeep.score(x_train, y_train))\n",
    "print(\"Test Accuracy = \", rfdeep.score(x_test, y_test))\n",
    "\n",
    "print(\"\\n\")\n",
    "print(\"Printing predicted result...\")\n",
    "print(\"Result_of_Treatment = \", y_pred)"
   ]
  },
  {
   "cell_type": "markdown",
   "metadata": {},
   "source": [
    "as you can see the test result accuracy increased. Now lets try making a huge forest that have a swallow tree."
   ]
  },
  {
   "cell_type": "code",
   "execution_count": null,
   "metadata": {},
   "outputs": [
    {
     "name": "stdout",
     "output_type": "stream",
     "text": [
      "Getting Model Accuracy...\n"
     ]
    }
   ],
   "source": [
    "rfswallow = RandomForestClassifier(n_estimators = 1000, random_state = 10, class_weight='balanced', max_features=10, min_samples_split=5, max_depth=10)\n",
    "\n",
    "rfswallow.fit(x_train, y_train)\n",
    "y_pred = rfswallow.predict(x_test)  \n",
    "\n",
    "print(\"Getting Model Accuracy...\")\n",
    "\n",
    "# Get regression details\n",
    "#print(\"Estimated Coefficient = \", regressor.coef_)\n",
    "#print(\"Estimated Intercept = \", regressor.intercept_)\n",
    "print(\"Training Accuracy = \", rfswallow.score(x_train, y_train))\n",
    "print(\"Test Accuracy = \", rfswallow.score(x_test, y_test))\n",
    "\n",
    "print(\"\\n\")\n",
    "print(\"Printing predicted result...\")\n",
    "print(\"Result_of_Treatment = \", y_pred)"
   ]
  },
  {
   "cell_type": "markdown",
   "metadata": {},
   "source": [
    "As you can clearly see the accuracy increase compared to the starting model without parameter tuning. The simplest thing to do in parameter tuning is by keep trying to use diffrent value in the diffrent parameter an find the one suited for your model."
   ]
  },
  {
   "cell_type": "markdown",
   "metadata": {},
   "source": [
    "## Advantage and disadvatage of random forest"
   ]
  },
  {
   "cell_type": "markdown",
   "metadata": {},
   "source": [
    "Advantage:\n",
    "- Since decision tree tend to overfit data. when taken the average of all of the tree would help to overcome the overfitting problem. Keep in mind this doesnt mean that overfitting can't happen in random forest.\n",
    "- Random forest is very flexible.\n",
    "- Random forest doesnt require a lot of data pre-processing.\n",
    "- Can mantain accuracy even with a lot of missing data.\n",
    "\n",
    "Disadvantage:\n",
    "- Random forest takes time and effort to create compared to decision tree. this is caused due to the complexity of the random forest.\n",
    "- Random forest require a lot of processing power.\n",
    "- The prediction process of random forest is more time consuming compared to other algorithms."
   ]
  },
  {
   "cell_type": "markdown",
   "metadata": {},
   "source": [
    "## Solving underfitting and overfitting problems"
   ]
  },
  {
   "cell_type": "markdown",
   "metadata": {},
   "source": [
    "### Underfitting "
   ]
  },
  {
   "cell_type": "markdown",
   "metadata": {},
   "source": [
    "Underfitting refers to a model that can neither model the training data nor generalize to new data. this is caused to the amount of data given as the training set is too little. An underfit machine learning model is not a suitable model and will be obvious as it will have poor performance on the training data. Most of the time model that is underfitted is sacked and a new model is created with diffrent machine learning algorithms.\n",
    "\n",
    "Another solution to this problem is by using oversampling. oversampling is process of increase the data in the dataset by having multiple row od the same data. oversampling match the number of the minority with the manority of the data. for example you have 200 data with \"A\" as the result and 30 as \"B\" result. undersampling will increase the number \"B\" result into 200 by copying data from \"B\" multiple times. therefore instead of using the entire 260 rows of data, oversampling will produce 400 rows of data."
   ]
  },
  {
   "cell_type": "code",
   "execution_count": null,
   "metadata": {
    "collapsed": true
   },
   "outputs": [],
   "source": [
    "train_data = pd.read_csv(\"train.csv\")"
   ]
  },
  {
   "cell_type": "markdown",
   "metadata": {},
   "source": [
    "Import the dataset that we will be using. we are using a diffrent dataset that you can get from \"https://www.kaggle.com/c/poker-rule-induction/data\". This is done because the result of our original dataset only have 2 results. on the other hand this one have 10 and will show more clearly how undersampling and oversampling work."
   ]
  },
  {
   "cell_type": "code",
   "execution_count": null,
   "metadata": {
    "scrolled": true
   },
   "outputs": [],
   "source": [
    "train_data.head(3)"
   ]
  },
  {
   "cell_type": "code",
   "execution_count": null,
   "metadata": {
    "collapsed": true
   },
   "outputs": [],
   "source": [
    "count_class_0, count_class_1, count_class_2, count_class_3, count_class_4, count_class_5, count_class_6, count_class_7, count_class_8, count_class_9 = train_data.hand.value_counts()"
   ]
  },
  {
   "cell_type": "markdown",
   "metadata": {},
   "source": [
    "We are just counting the number of value from the hand collumn"
   ]
  },
  {
   "cell_type": "code",
   "execution_count": null,
   "metadata": {
    "collapsed": true
   },
   "outputs": [],
   "source": [
    "df_class_0 = train_data[train_data['hand'] == 0]\n",
    "df_class_1 = train_data[train_data['hand'] == 1]\n",
    "df_class_2 = train_data[train_data['hand'] == 2]\n",
    "df_class_3 = train_data[train_data['hand'] == 3]\n",
    "df_class_4 = train_data[train_data['hand'] == 4]\n",
    "df_class_5 = train_data[train_data['hand'] == 5]\n",
    "df_class_6 = train_data[train_data['hand'] == 6]\n",
    "df_class_7 = train_data[train_data['hand'] == 7]\n",
    "df_class_8 = train_data[train_data['hand'] == 8]\n",
    "df_class_9 = train_data[train_data['hand'] == 9]"
   ]
  },
  {
   "cell_type": "code",
   "execution_count": null,
   "metadata": {
    "collapsed": true
   },
   "outputs": [],
   "source": [
    "df_class_9_over = df_class_9.sample(count_class_0, replace=True)\n",
    "df_class_8_over = df_class_8.sample(count_class_0, replace=True)\n",
    "df_class_7_over = df_class_7.sample(count_class_0, replace=True)\n",
    "df_class_6_over = df_class_6.sample(count_class_0, replace=True)\n",
    "df_class_5_over = df_class_5.sample(count_class_0, replace=True)\n",
    "df_class_4_over = df_class_4.sample(count_class_0, replace=True)\n",
    "df_class_3_over = df_class_3.sample(count_class_0, replace=True)\n",
    "df_class_2_over = df_class_2.sample(count_class_0, replace=True)\n",
    "df_class_1_over = df_class_1.sample(count_class_0, replace=True)"
   ]
  },
  {
   "cell_type": "code",
   "execution_count": null,
   "metadata": {
    "collapsed": true
   },
   "outputs": [],
   "source": [
    "df_test_over = pd.concat([df_class_0, df_class_1_over], axis=0)\n",
    "df_test_over = pd.concat([df_test_over, df_class_2_over], axis=0)\n",
    "df_test_over = pd.concat([df_test_over, df_class_3_over], axis=0)\n",
    "df_test_over = pd.concat([df_test_over, df_class_4_over], axis=0)\n",
    "df_test_over = pd.concat([df_test_over, df_class_5_over], axis=0)\n",
    "df_test_over = pd.concat([df_test_over, df_class_6_over], axis=0)\n",
    "df_test_over = pd.concat([df_test_over, df_class_7_over], axis=0)\n",
    "df_test_over = pd.concat([df_test_over, df_class_8_over], axis=0)\n",
    "df_test_over = pd.concat([df_test_over, df_class_9_over], axis=0)"
   ]
  },
  {
   "cell_type": "code",
   "execution_count": null,
   "metadata": {},
   "outputs": [],
   "source": [
    "print('Random over-sampling:')\n",
    "print(df_test_over.hand.value_counts())"
   ]
  },
  {
   "cell_type": "markdown",
   "metadata": {},
   "source": [
    "Printing number of values"
   ]
  },
  {
   "cell_type": "code",
   "execution_count": null,
   "metadata": {},
   "outputs": [],
   "source": [
    "df_test_over.head(3)"
   ]
  },
  {
   "cell_type": "markdown",
   "metadata": {
    "collapsed": true
   },
   "source": [
    "### Overfitting"
   ]
  },
  {
   "cell_type": "markdown",
   "metadata": {
    "collapsed": true
   },
   "source": [
    "Overfitting refers to a model that models the training data too well. Overfittin is caused by the model receive too much data as the training set. This happens when a model learns the detail and noise in the training data to the extent that it negatively impacts the performance of the model on new data. This means that the noise or random fluctuations in the training data is picked up and learned as concepts by the model. The problem is that these concepts do not apply to new data and negatively impact the models ability to generalize.\n",
    "\n",
    "This problem could be solved by using undersampling. Undersampling is process of reducing the data in the dataset. Undersampling match the number of the majority with the minority of the data. for example you have 200 data with \"A\" as the result and 30 as \"B\" result. undersampling will reduce the number \"A\" result into 30 by taking 30 rows of data at random. therefore instead of using the entire 260 rows of data, undersampling will produce 60 rows of data."
   ]
  },
  {
   "cell_type": "code",
   "execution_count": null,
   "metadata": {
    "collapsed": true
   },
   "outputs": [],
   "source": [
    "train_data = pd.read_csv(\"train.csv\")"
   ]
  },
  {
   "cell_type": "code",
   "execution_count": null,
   "metadata": {},
   "outputs": [],
   "source": [
    "train_data.head(3)"
   ]
  },
  {
   "cell_type": "code",
   "execution_count": null,
   "metadata": {
    "collapsed": true
   },
   "outputs": [],
   "source": [
    "df_class_0under = df_class_0.sample(count_class_9, replace=True)\n",
    "df_class_1under = df_class_1.sample(count_class_9, replace=True)\n",
    "df_class_2under = df_class_2.sample(count_class_9, replace=True)\n",
    "df_class_3under = df_class_3.sample(count_class_9, replace=True)\n",
    "df_class_4under = df_class_4.sample(count_class_9, replace=True)\n",
    "df_class_5under = df_class_5.sample(count_class_9, replace=True)\n",
    "df_class_6under = df_class_6.sample(count_class_9, replace=True)\n",
    "df_class_7under = df_class_7.sample(count_class_9, replace=True)\n",
    "df_class_8under = df_class_8.sample(count_class_9, replace=True)"
   ]
  },
  {
   "cell_type": "code",
   "execution_count": null,
   "metadata": {
    "collapsed": true
   },
   "outputs": [],
   "source": [
    "df_test_under = pd.concat([df_class_9, df_class_0under], axis=0)\n",
    "df_test_under = pd.concat([df_test_under, df_class_1under], axis=0)\n",
    "df_test_under = pd.concat([df_test_under, df_class_2under], axis=0)\n",
    "df_test_under = pd.concat([df_test_under, df_class_3under], axis=0)\n",
    "df_test_under = pd.concat([df_test_under, df_class_4under], axis=0)\n",
    "df_test_under = pd.concat([df_test_under, df_class_5under], axis=0)\n",
    "df_test_under = pd.concat([df_test_under, df_class_6under], axis=0)\n",
    "df_test_under = pd.concat([df_test_under, df_class_7under], axis=0)\n",
    "df_test_under = pd.concat([df_test_under, df_class_8under], axis=0)"
   ]
  },
  {
   "cell_type": "code",
   "execution_count": null,
   "metadata": {},
   "outputs": [],
   "source": [
    "print('Random under-sampling:')\n",
    "print(df_test_under.hand.value_counts())"
   ]
  },
  {
   "cell_type": "code",
   "execution_count": null,
   "metadata": {},
   "outputs": [],
   "source": [
    "df_test_over.head(3)"
   ]
  },
  {
   "cell_type": "markdown",
   "metadata": {
    "collapsed": true
   },
   "source": [
    "## Conclusion"
   ]
  },
  {
   "cell_type": "markdown",
   "metadata": {},
   "source": [
    "Random forest is a good machine learning algorithm. but because the complexity and required to be tuned to suit each model, it is not easy for new user to use them. additionally it require more time for random forest to predict a result. But with all those flaws, random forest is still used widely because the accuracy of the algorithms is really high after a fine tuning of the parameters. \n",
    "\n",
    "This tutorial doesnt dive too deep on how to tune the parameters for random forest. But the creator hope this tutorial will help new user to understand random forest better. Thank you for reading!"
   ]
  },
  {
   "cell_type": "markdown",
   "metadata": {},
   "source": [
    "## References"
   ]
  },
  {
   "cell_type": "markdown",
   "metadata": {},
   "source": [
    "Archive.ics.uci.edu. (2019). UCI Machine Learning Repository: Dota2 Games Results Data Set. [online] Available at: https://archive.ics.uci.edu/ml/datasets/Dota2+Games+Results [Accessed 19 Mar. 2019].\n",
    "\n",
    "Brownlee, J. (2019). Overfitting and Underfitting With Machine Learning Algorithms. [online] Machine Learning Mastery. Available at: https://machinelearningmastery.com/overfitting-and-underfitting-with-machine-learning-algorithms/ [Accessed 21 Mar. 2019].\n",
    "\n",
    "Kaggle.com. (2019). Poker Rule Induction | Kaggle. [online] Available at: https://www.kaggle.com/c/poker-rule-induction/data [Accessed 21 Mar. 2019].\n",
    "\n",
    "Marco Altini. (2019). Dealing with imbalanced data: undersampling, oversampling and proper cross-validation. [online] Available at: https://www.marcoaltini.com/blog/dealing-with-imbalanced-data-undersampling-oversampling-and-proper-cross-validation [Accessed 21 Mar. 2019].\n",
    "\n",
    "Measuringu.com. (2019). MeasuringU: 7 Ways to Handle Missing Data. [online] Available at: https://measuringu.com/handle-missing-data/ [Accessed 20 Mar. 2019].\n",
    "\n",
    "Medium. (2019). Tuning a Random Forest Classifier. [online] Available at: https://medium.com/@taplapinger/tuning-a-random-forest-classifier-1b252d1dde92 [Accessed 21 Mar. 2019].\n",
    "\n",
    "Sas.com. (2019). A guide to machine learning algorithms and their applications. [online] Available at: https://www.sas.com/en_ie/insights/articles/analytics/machine-learning-algorithms.html [Accessed 19 Mar. 2019].\n",
    "\n",
    "Sas.com. (2019). Machine Learning: What it is and why it matters. [online] Available at: https://www.sas.com/en_ie/insights/analytics/machine-learning.html [Accessed 19 Mar. 2019].\n",
    "\n",
    "Scikit-learn.org. (2019). 3.2.4.3.1. sklearn.ensemble.RandomForestClassifier — scikit-learn 0.20.3 documentation. [online] Available at: https://scikit-learn.org/stable/modules/generated/sklearn.ensemble.RandomForestClassifier.html [Accessed 21 Mar. 2019].\n",
    "\n",
    "Techopedia.com. (2019). What is Data Preprocessing? - Definition from Techopedia. [online] Available at: https://www.techopedia.com/definition/14650/data-preprocessing [Accessed 20 Mar. 2019].\n"
   ]
  }
 ],
 "metadata": {
  "kernelspec": {
   "display_name": "Python 3",
   "language": "python",
   "name": "python3"
  },
  "language_info": {
   "codemirror_mode": {
    "name": "ipython",
    "version": 3
   },
   "file_extension": ".py",
   "mimetype": "text/x-python",
   "name": "python",
   "nbconvert_exporter": "python",
   "pygments_lexer": "ipython3",
   "version": "3.6.7"
  }
 },
 "nbformat": 4,
 "nbformat_minor": 2
}
